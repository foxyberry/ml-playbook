{
 "cells": [
  {
   "cell_type": "code",
   "execution_count": 2,
   "metadata": {
    "executionInfo": {
     "elapsed": 2566,
     "status": "ok",
     "timestamp": 1633854639842,
     "user": {
      "displayName": "amirhassan monajemi",
      "photoUrl": "https://lh3.googleusercontent.com/a/default-user=s64",
      "userId": "09914716378677844138"
     },
     "user_tz": -480
    },
    "id": "x5N-onDbel8Z"
   },
   "outputs": [],
   "source": [
    "import os\n",
    "import time\n",
    "import tensorflow as tf\n",
    "# modified to solve placeholder() error\n",
    "#import tensorflow.compat.v1 as tf\n",
    "#tf.disable_v2_behavior()\n",
    "import numpy as np\n",
    "from glob import glob\n",
    "import datetime\n",
    "import random\n",
    "from PIL import Image\n",
    "import matplotlib.pyplot as plt\n",
    "%matplotlib inline\n",
    "from  tensorflow import keras\n",
    "from  tensorflow.keras import layers\n",
    "import base64"
   ]
  },
  {
   "cell_type": "code",
   "execution_count": 3,
   "metadata": {
    "colab": {
     "base_uri": "https://localhost:8080/"
    },
    "executionInfo": {
     "elapsed": 6,
     "status": "ok",
     "timestamp": 1633854809439,
     "user": {
      "displayName": "amirhassan monajemi",
      "photoUrl": "https://lh3.googleusercontent.com/a/default-user=s64",
      "userId": "09914716378677844138"
     },
     "user_tz": -480
    },
    "id": "22bXoYJmBOgb",
    "outputId": "ec245fe1-fdd7-4ba7-909e-e194090393de"
   },
   "outputs": [
    {
     "name": "stdout",
     "output_type": "stream",
     "text": [
      "Default GPU Device: /device:GPU:0\n"
     ]
    },
    {
     "name": "stderr",
     "output_type": "stream",
     "text": [
      "2024-10-23 14:18:47.133352: I metal_plugin/src/device/metal_device.cc:1154] Metal device set to: Apple M3 Pro\n",
      "2024-10-23 14:18:47.133392: I metal_plugin/src/device/metal_device.cc:296] systemMemory: 36.00 GB\n",
      "2024-10-23 14:18:47.133402: I metal_plugin/src/device/metal_device.cc:313] maxCacheSize: 13.50 GB\n",
      "2024-10-23 14:18:47.133680: I tensorflow/core/common_runtime/pluggable_device/pluggable_device_factory.cc:305] Could not identify NUMA node of platform GPU ID 0, defaulting to 0. Your kernel may not have been built with NUMA support.\n",
      "2024-10-23 14:18:47.133709: I tensorflow/core/common_runtime/pluggable_device/pluggable_device_factory.cc:271] Created TensorFlow device (/device:GPU:0 with 0 MB memory) -> physical PluggableDevice (device: 0, name: METAL, pci bus id: <undefined>)\n",
      "2024-10-23 14:18:47.138576: I tensorflow/core/common_runtime/pluggable_device/pluggable_device_factory.cc:305] Could not identify NUMA node of platform GPU ID 0, defaulting to 0. Your kernel may not have been built with NUMA support.\n",
      "2024-10-23 14:18:47.138592: I tensorflow/core/common_runtime/pluggable_device/pluggable_device_factory.cc:271] Created TensorFlow device (/device:GPU:0 with 0 MB memory) -> physical PluggableDevice (device: 0, name: METAL, pci bus id: <undefined>)\n"
     ]
    }
   ],
   "source": [
    "if tf.test.gpu_device_name(): \n",
    "    print('Default GPU Device: {}'.format(tf.test.gpu_device_name()))\n",
    "else:\n",
    "   print(\"Please install GPU version of TF\")"
   ]
  },
  {
   "cell_type": "code",
   "execution_count": 4,
   "metadata": {
    "colab": {
     "base_uri": "https://localhost:8080/"
    },
    "executionInfo": {
     "elapsed": 2692,
     "status": "ok",
     "timestamp": 1633854812128,
     "user": {
      "displayName": "amirhassan monajemi",
      "photoUrl": "https://lh3.googleusercontent.com/a/default-user=s64",
      "userId": "09914716378677844138"
     },
     "user_tz": -480
    },
    "id": "cwJ5PHCEalaz",
    "outputId": "07ea14ad-bce4-4566-b28e-8adbb096f5d6"
   },
   "outputs": [
    {
     "name": "stdout",
     "output_type": "stream",
     "text": [
      "Found 1036 files belonging to 2 classes.\n",
      "Using 829 files for training.\n",
      "Found 1036 files belonging to 2 classes.\n",
      "Using 207 files for validation.\n"
     ]
    },
    {
     "name": "stderr",
     "output_type": "stream",
     "text": [
      "2024-10-23 14:18:48.993965: I tensorflow/core/common_runtime/pluggable_device/pluggable_device_factory.cc:305] Could not identify NUMA node of platform GPU ID 0, defaulting to 0. Your kernel may not have been built with NUMA support.\n",
      "2024-10-23 14:18:48.993987: I tensorflow/core/common_runtime/pluggable_device/pluggable_device_factory.cc:271] Created TensorFlow device (/job:localhost/replica:0/task:0/device:GPU:0 with 0 MB memory) -> physical PluggableDevice (device: 0, name: METAL, pci bus id: <undefined>)\n"
     ]
    }
   ],
   "source": [
    "image_size = (256,256)\n",
    "batch_size = 8\n",
    "\n",
    "train_ds = keras.preprocessing.image_dataset_from_directory(\n",
    "    \"nice_smaller\",\n",
    "    validation_split=0.2,\n",
    "    subset=\"training\",\n",
    "    seed=1337,\n",
    "    image_size=image_size,\n",
    "    batch_size=batch_size,\n",
    ")\n",
    "val_ds = keras.preprocessing.image_dataset_from_directory(\n",
    "    \"nice_smaller\",\n",
    "    validation_split=0.2,\n",
    "    subset=\"validation\",\n",
    "    seed=1337,\n",
    "    image_size=image_size,\n",
    "    batch_size=batch_size,\n",
    ")"
   ]
  },
  {
   "cell_type": "code",
   "execution_count": 5,
   "metadata": {
    "executionInfo": {
     "elapsed": 3,
     "status": "ok",
     "timestamp": 1633854812128,
     "user": {
      "displayName": "amirhassan monajemi",
      "photoUrl": "https://lh3.googleusercontent.com/a/default-user=s64",
      "userId": "09914716378677844138"
     },
     "user_tz": -480
    },
    "id": "FTKfArycala3"
   },
   "outputs": [],
   "source": [
    "data_augmentation = keras.Sequential(\n",
    "    [\n",
    "        layers.RandomFlip(\"horizontal\"),\n",
    "        layers.RandomRotation(0.1),\n",
    "    ]\n",
    ")"
   ]
  },
  {
   "cell_type": "code",
   "execution_count": 6,
   "metadata": {
    "executionInfo": {
     "elapsed": 515,
     "status": "ok",
     "timestamp": 1633854812640,
     "user": {
      "displayName": "amirhassan monajemi",
      "photoUrl": "https://lh3.googleusercontent.com/a/default-user=s64",
      "userId": "09914716378677844138"
     },
     "user_tz": -480
    },
    "id": "3aa767G4ala4"
   },
   "outputs": [],
   "source": [
    "augmented_train_ds = train_ds.map(\n",
    "  lambda x, y: (data_augmentation(x, training=True), y))"
   ]
  },
  {
   "cell_type": "code",
   "execution_count": 7,
   "metadata": {
    "executionInfo": {
     "elapsed": 4,
     "status": "ok",
     "timestamp": 1633854812640,
     "user": {
      "displayName": "amirhassan monajemi",
      "photoUrl": "https://lh3.googleusercontent.com/a/default-user=s64",
      "userId": "09914716378677844138"
     },
     "user_tz": -480
    },
    "id": "ufvp2QNsala5"
   },
   "outputs": [],
   "source": [
    "train_ds = train_ds.prefetch(buffer_size=32)\n",
    "val_ds = val_ds.prefetch(buffer_size=32)"
   ]
  },
  {
   "cell_type": "code",
   "execution_count": 8,
   "metadata": {
    "executionInfo": {
     "elapsed": 4,
     "status": "ok",
     "timestamp": 1633854812640,
     "user": {
      "displayName": "amirhassan monajemi",
      "photoUrl": "https://lh3.googleusercontent.com/a/default-user=s64",
      "userId": "09914716378677844138"
     },
     "user_tz": -480
    },
    "id": "cSLWPNeEala6"
   },
   "outputs": [],
   "source": [
    "def make_model(input_shape, num_classes):\n",
    "    inputs = keras.Input(shape=input_shape)\n",
    "    # Image augmentation block\n",
    "    x = data_augmentation(inputs)\n",
    "\n",
    "    # Entry block\n",
    "    x = layers.Rescaling(1.0 / 255)(x)\n",
    "    x = layers.Conv2D(32, 3, strides=2, padding=\"same\")(x)\n",
    "    x = layers.BatchNormalization()(x)\n",
    "    x = layers.Activation(\"relu\")(x)\n",
    "\n",
    "    x = layers.Conv2D(64, 3, padding=\"same\")(x)\n",
    "    x = layers.BatchNormalization()(x)\n",
    "    x = layers.Activation(\"relu\")(x)\n",
    "\n",
    "    previous_block_activation = x  # Set aside residual\n",
    "\n",
    "    for size in [128, 256, 512, 728]:\n",
    "        x = layers.Activation(\"relu\")(x)\n",
    "        x = layers.SeparableConv2D(size, 3, padding=\"same\")(x)\n",
    "        x = layers.BatchNormalization()(x)\n",
    "\n",
    "        x = layers.Activation(\"relu\")(x)\n",
    "        x = layers.SeparableConv2D(size, 3, padding=\"same\")(x)\n",
    "        x = layers.BatchNormalization()(x)\n",
    "\n",
    "        x = layers.MaxPooling2D(3, strides=2, padding=\"same\")(x)\n",
    "\n",
    "        # Project residual\n",
    "        residual = layers.Conv2D(size, 1, strides=2, padding=\"same\")(\n",
    "            previous_block_activation\n",
    "        )\n",
    "        x = layers.add([x, residual])  # Add back residual\n",
    "        previous_block_activation = x  # Set aside next residual\n",
    "\n",
    "    x = layers.SeparableConv2D(1024, 3, padding=\"same\")(x)\n",
    "    x = layers.BatchNormalization()(x)\n",
    "    x = layers.Activation(\"relu\")(x)\n",
    "\n",
    "    x = layers.GlobalAveragePooling2D()(x)\n",
    "    if num_classes == 2:\n",
    "        activation = \"sigmoid\"\n",
    "        units = 1\n",
    "    else:\n",
    "        activation = \"softmax\"\n",
    "        units = num_classes\n",
    "\n",
    "    x = layers.Dropout(0.5)(x)\n",
    "    outputs = layers.Dense(units, activation=activation)(x)\n",
    "    return keras.Model(inputs, outputs)"
   ]
  },
  {
   "cell_type": "code",
   "execution_count": 9,
   "metadata": {
    "colab": {
     "base_uri": "https://localhost:8080/",
     "height": 1000
    },
    "executionInfo": {
     "elapsed": 3108,
     "status": "ok",
     "timestamp": 1633854815745,
     "user": {
      "displayName": "amirhassan monajemi",
      "photoUrl": "https://lh3.googleusercontent.com/a/default-user=s64",
      "userId": "09914716378677844138"
     },
     "user_tz": -480
    },
    "id": "OpmJ1Ckwala8",
    "outputId": "95b5973b-2b6b-42d7-b825-6114f3583764"
   },
   "outputs": [
    {
     "name": "stdout",
     "output_type": "stream",
     "text": [
      "You must install graphviz (see instructions at https://graphviz.gitlab.io/download/) for `plot_model` to work.\n"
     ]
    }
   ],
   "source": [
    "model = make_model(input_shape=image_size + (3,), num_classes=2)\n",
    "keras.utils.plot_model(model, show_shapes=True)"
   ]
  },
  {
   "cell_type": "code",
   "execution_count": 11,
   "metadata": {
    "colab": {
     "background_save": true,
     "base_uri": "https://localhost:8080/"
    },
    "id": "bqIomqzxala-"
   },
   "outputs": [
    {
     "name": "stdout",
     "output_type": "stream",
     "text": [
      "Epoch 1/80\n",
      "\u001b[1m104/104\u001b[0m \u001b[32m━━━━━━━━━━━━━━━━━━━━\u001b[0m\u001b[37m\u001b[0m \u001b[1m41s\u001b[0m 320ms/step - accuracy: 0.9416 - loss: 0.1650 - val_accuracy: 0.8599 - val_loss: 0.3215\n",
      "Epoch 2/80\n",
      "\u001b[1m104/104\u001b[0m \u001b[32m━━━━━━━━━━━━━━━━━━━━\u001b[0m\u001b[37m\u001b[0m \u001b[1m31s\u001b[0m 301ms/step - accuracy: 0.9474 - loss: 0.1435 - val_accuracy: 0.8647 - val_loss: 0.3480\n",
      "Epoch 3/80\n",
      "\u001b[1m104/104\u001b[0m \u001b[32m━━━━━━━━━━━━━━━━━━━━\u001b[0m\u001b[37m\u001b[0m \u001b[1m30s\u001b[0m 288ms/step - accuracy: 0.9403 - loss: 0.1473 - val_accuracy: 0.9469 - val_loss: 0.1457\n",
      "Epoch 4/80\n",
      "\u001b[1m104/104\u001b[0m \u001b[32m━━━━━━━━━━━━━━━━━━━━\u001b[0m\u001b[37m\u001b[0m \u001b[1m30s\u001b[0m 286ms/step - accuracy: 0.9579 - loss: 0.1177 - val_accuracy: 0.8696 - val_loss: 0.3497\n",
      "Epoch 5/80\n",
      "\u001b[1m104/104\u001b[0m \u001b[32m━━━━━━━━━━━━━━━━━━━━\u001b[0m\u001b[37m\u001b[0m \u001b[1m30s\u001b[0m 285ms/step - accuracy: 0.9527 - loss: 0.1274 - val_accuracy: 0.8937 - val_loss: 0.3130\n",
      "Epoch 6/80\n",
      "\u001b[1m104/104\u001b[0m \u001b[32m━━━━━━━━━━━━━━━━━━━━\u001b[0m\u001b[37m\u001b[0m \u001b[1m30s\u001b[0m 289ms/step - accuracy: 0.9322 - loss: 0.1687 - val_accuracy: 0.9082 - val_loss: 0.2617\n",
      "Epoch 7/80\n",
      "\u001b[1m104/104\u001b[0m \u001b[32m━━━━━━━━━━━━━━━━━━━━\u001b[0m\u001b[37m\u001b[0m \u001b[1m30s\u001b[0m 284ms/step - accuracy: 0.9481 - loss: 0.1448 - val_accuracy: 0.9469 - val_loss: 0.1271\n",
      "Epoch 8/80\n",
      "\u001b[1m104/104\u001b[0m \u001b[32m━━━━━━━━━━━━━━━━━━━━\u001b[0m\u001b[37m\u001b[0m \u001b[1m31s\u001b[0m 295ms/step - accuracy: 0.9458 - loss: 0.1371 - val_accuracy: 0.9614 - val_loss: 0.1016\n",
      "Epoch 9/80\n",
      "\u001b[1m104/104\u001b[0m \u001b[32m━━━━━━━━━━━━━━━━━━━━\u001b[0m\u001b[37m\u001b[0m \u001b[1m31s\u001b[0m 299ms/step - accuracy: 0.9563 - loss: 0.1001 - val_accuracy: 0.9662 - val_loss: 0.0845\n",
      "Epoch 10/80\n",
      "\u001b[1m104/104\u001b[0m \u001b[32m━━━━━━━━━━━━━━━━━━━━\u001b[0m\u001b[37m\u001b[0m \u001b[1m32s\u001b[0m 303ms/step - accuracy: 0.9471 - loss: 0.1425 - val_accuracy: 0.9179 - val_loss: 0.2310\n",
      "Epoch 11/80\n",
      "\u001b[1m104/104\u001b[0m \u001b[32m━━━━━━━━━━━━━━━━━━━━\u001b[0m\u001b[37m\u001b[0m \u001b[1m30s\u001b[0m 289ms/step - accuracy: 0.9644 - loss: 0.1147 - val_accuracy: 0.9420 - val_loss: 0.1118\n",
      "Epoch 12/80\n",
      "\u001b[1m104/104\u001b[0m \u001b[32m━━━━━━━━━━━━━━━━━━━━\u001b[0m\u001b[37m\u001b[0m \u001b[1m30s\u001b[0m 286ms/step - accuracy: 0.9558 - loss: 0.1441 - val_accuracy: 0.9034 - val_loss: 0.2603\n",
      "Epoch 13/80\n",
      "\u001b[1m104/104\u001b[0m \u001b[32m━━━━━━━━━━━━━━━━━━━━\u001b[0m\u001b[37m\u001b[0m \u001b[1m30s\u001b[0m 287ms/step - accuracy: 0.9520 - loss: 0.1552 - val_accuracy: 0.8502 - val_loss: 0.3863\n",
      "Epoch 14/80\n",
      "\u001b[1m104/104\u001b[0m \u001b[32m━━━━━━━━━━━━━━━━━━━━\u001b[0m\u001b[37m\u001b[0m \u001b[1m30s\u001b[0m 287ms/step - accuracy: 0.9715 - loss: 0.0727 - val_accuracy: 0.9469 - val_loss: 0.1276\n",
      "Epoch 15/80\n",
      "\u001b[1m104/104\u001b[0m \u001b[32m━━━━━━━━━━━━━━━━━━━━\u001b[0m\u001b[37m\u001b[0m \u001b[1m30s\u001b[0m 288ms/step - accuracy: 0.9663 - loss: 0.0816 - val_accuracy: 0.9227 - val_loss: 0.1397\n",
      "Epoch 16/80\n",
      "\u001b[1m104/104\u001b[0m \u001b[32m━━━━━━━━━━━━━━━━━━━━\u001b[0m\u001b[37m\u001b[0m \u001b[1m30s\u001b[0m 288ms/step - accuracy: 0.9654 - loss: 0.0863 - val_accuracy: 0.7923 - val_loss: 0.7221\n",
      "Epoch 17/80\n",
      "\u001b[1m104/104\u001b[0m \u001b[32m━━━━━━━━━━━━━━━━━━━━\u001b[0m\u001b[37m\u001b[0m \u001b[1m30s\u001b[0m 286ms/step - accuracy: 0.9374 - loss: 0.1632 - val_accuracy: 0.9372 - val_loss: 0.1804\n",
      "Epoch 18/80\n",
      "\u001b[1m104/104\u001b[0m \u001b[32m━━━━━━━━━━━━━━━━━━━━\u001b[0m\u001b[37m\u001b[0m \u001b[1m30s\u001b[0m 285ms/step - accuracy: 0.9670 - loss: 0.1158 - val_accuracy: 0.8744 - val_loss: 0.2936\n",
      "Epoch 19/80\n",
      "\u001b[1m104/104\u001b[0m \u001b[32m━━━━━━━━━━━━━━━━━━━━\u001b[0m\u001b[37m\u001b[0m \u001b[1m30s\u001b[0m 289ms/step - accuracy: 0.9642 - loss: 0.1075 - val_accuracy: 0.9130 - val_loss: 0.2250\n",
      "Epoch 20/80\n",
      "\u001b[1m104/104\u001b[0m \u001b[32m━━━━━━━━━━━━━━━━━━━━\u001b[0m\u001b[37m\u001b[0m \u001b[1m30s\u001b[0m 289ms/step - accuracy: 0.9523 - loss: 0.1241 - val_accuracy: 0.8696 - val_loss: 0.2717\n",
      "Epoch 21/80\n",
      "\u001b[1m104/104\u001b[0m \u001b[32m━━━━━━━━━━━━━━━━━━━━\u001b[0m\u001b[37m\u001b[0m \u001b[1m30s\u001b[0m 287ms/step - accuracy: 0.9759 - loss: 0.0573 - val_accuracy: 0.9227 - val_loss: 0.2083\n",
      "Epoch 22/80\n",
      "\u001b[1m104/104\u001b[0m \u001b[32m━━━━━━━━━━━━━━━━━━━━\u001b[0m\u001b[37m\u001b[0m \u001b[1m31s\u001b[0m 303ms/step - accuracy: 0.9638 - loss: 0.0810 - val_accuracy: 0.9082 - val_loss: 0.2750\n",
      "Epoch 23/80\n",
      "\u001b[1m104/104\u001b[0m \u001b[32m━━━━━━━━━━━━━━━━━━━━\u001b[0m\u001b[37m\u001b[0m \u001b[1m31s\u001b[0m 302ms/step - accuracy: 0.9328 - loss: 0.1668 - val_accuracy: 0.9469 - val_loss: 0.1296\n",
      "Epoch 24/80\n",
      "\u001b[1m104/104\u001b[0m \u001b[32m━━━━━━━━━━━━━━━━━━━━\u001b[0m\u001b[37m\u001b[0m \u001b[1m31s\u001b[0m 299ms/step - accuracy: 0.9674 - loss: 0.0937 - val_accuracy: 0.9372 - val_loss: 0.1124\n",
      "Epoch 25/80\n",
      "\u001b[1m104/104\u001b[0m \u001b[32m━━━━━━━━━━━━━━━━━━━━\u001b[0m\u001b[37m\u001b[0m \u001b[1m32s\u001b[0m 306ms/step - accuracy: 0.9445 - loss: 0.1472 - val_accuracy: 0.8889 - val_loss: 0.2489\n",
      "Epoch 26/80\n",
      "\u001b[1m104/104\u001b[0m \u001b[32m━━━━━━━━━━━━━━━━━━━━\u001b[0m\u001b[37m\u001b[0m \u001b[1m31s\u001b[0m 297ms/step - accuracy: 0.9572 - loss: 0.1075 - val_accuracy: 0.9420 - val_loss: 0.1259\n",
      "Epoch 27/80\n",
      "\u001b[1m104/104\u001b[0m \u001b[32m━━━━━━━━━━━━━━━━━━━━\u001b[0m\u001b[37m\u001b[0m \u001b[1m30s\u001b[0m 289ms/step - accuracy: 0.9606 - loss: 0.0969 - val_accuracy: 0.9082 - val_loss: 0.2159\n",
      "Epoch 28/80\n",
      "\u001b[1m104/104\u001b[0m \u001b[32m━━━━━━━━━━━━━━━━━━━━\u001b[0m\u001b[37m\u001b[0m \u001b[1m30s\u001b[0m 290ms/step - accuracy: 0.9565 - loss: 0.1136 - val_accuracy: 0.9179 - val_loss: 0.1812\n",
      "Epoch 29/80\n",
      "\u001b[1m104/104\u001b[0m \u001b[32m━━━━━━━━━━━━━━━━━━━━\u001b[0m\u001b[37m\u001b[0m \u001b[1m30s\u001b[0m 293ms/step - accuracy: 0.9660 - loss: 0.0742 - val_accuracy: 0.9179 - val_loss: 0.2490\n",
      "Epoch 30/80\n",
      "\u001b[1m104/104\u001b[0m \u001b[32m━━━━━━━━━━━━━━━━━━━━\u001b[0m\u001b[37m\u001b[0m \u001b[1m33s\u001b[0m 317ms/step - accuracy: 0.9666 - loss: 0.1218 - val_accuracy: 0.8792 - val_loss: 0.3616\n",
      "Epoch 31/80\n",
      "\u001b[1m104/104\u001b[0m \u001b[32m━━━━━━━━━━━━━━━━━━━━\u001b[0m\u001b[37m\u001b[0m \u001b[1m32s\u001b[0m 303ms/step - accuracy: 0.9504 - loss: 0.1178 - val_accuracy: 0.9372 - val_loss: 0.1873\n",
      "Epoch 32/80\n",
      "\u001b[1m104/104\u001b[0m \u001b[32m━━━━━━━━━━━━━━━━━━━━\u001b[0m\u001b[37m\u001b[0m \u001b[1m31s\u001b[0m 297ms/step - accuracy: 0.9649 - loss: 0.0977 - val_accuracy: 0.9082 - val_loss: 0.2618\n",
      "Epoch 33/80\n",
      "\u001b[1m104/104\u001b[0m \u001b[32m━━━━━━━━━━━━━━━━━━━━\u001b[0m\u001b[37m\u001b[0m \u001b[1m31s\u001b[0m 303ms/step - accuracy: 0.9662 - loss: 0.1002 - val_accuracy: 0.9517 - val_loss: 0.1196\n",
      "Epoch 34/80\n",
      "\u001b[1m104/104\u001b[0m \u001b[32m━━━━━━━━━━━━━━━━━━━━\u001b[0m\u001b[37m\u001b[0m \u001b[1m32s\u001b[0m 307ms/step - accuracy: 0.9587 - loss: 0.0957 - val_accuracy: 0.9469 - val_loss: 0.1531\n",
      "Epoch 35/80\n",
      "\u001b[1m104/104\u001b[0m \u001b[32m━━━━━━━━━━━━━━━━━━━━\u001b[0m\u001b[37m\u001b[0m \u001b[1m32s\u001b[0m 311ms/step - accuracy: 0.9616 - loss: 0.0996 - val_accuracy: 0.9420 - val_loss: 0.1207\n",
      "Epoch 36/80\n",
      "\u001b[1m104/104\u001b[0m \u001b[32m━━━━━━━━━━━━━━━━━━━━\u001b[0m\u001b[37m\u001b[0m \u001b[1m32s\u001b[0m 305ms/step - accuracy: 0.9729 - loss: 0.0766 - val_accuracy: 0.8841 - val_loss: 0.4034\n",
      "Epoch 37/80\n",
      "\u001b[1m104/104\u001b[0m \u001b[32m━━━━━━━━━━━━━━━━━━━━\u001b[0m\u001b[37m\u001b[0m \u001b[1m31s\u001b[0m 298ms/step - accuracy: 0.9637 - loss: 0.0915 - val_accuracy: 0.9517 - val_loss: 0.1009\n",
      "Epoch 38/80\n",
      "\u001b[1m104/104\u001b[0m \u001b[32m━━━━━━━━━━━━━━━━━━━━\u001b[0m\u001b[37m\u001b[0m \u001b[1m32s\u001b[0m 306ms/step - accuracy: 0.9656 - loss: 0.1034 - val_accuracy: 0.8937 - val_loss: 0.2387\n",
      "Epoch 39/80\n",
      "\u001b[1m104/104\u001b[0m \u001b[32m━━━━━━━━━━━━━━━━━━━━\u001b[0m\u001b[37m\u001b[0m \u001b[1m32s\u001b[0m 304ms/step - accuracy: 0.9751 - loss: 0.0752 - val_accuracy: 0.9324 - val_loss: 0.1362\n",
      "Epoch 40/80\n",
      "\u001b[1m104/104\u001b[0m \u001b[32m━━━━━━━━━━━━━━━━━━━━\u001b[0m\u001b[37m\u001b[0m \u001b[1m32s\u001b[0m 308ms/step - accuracy: 0.9691 - loss: 0.0888 - val_accuracy: 0.9517 - val_loss: 0.1142\n",
      "Epoch 41/80\n",
      "\u001b[1m104/104\u001b[0m \u001b[32m━━━━━━━━━━━━━━━━━━━━\u001b[0m\u001b[37m\u001b[0m \u001b[1m31s\u001b[0m 300ms/step - accuracy: 0.9865 - loss: 0.0526 - val_accuracy: 0.9420 - val_loss: 0.1344\n",
      "Epoch 42/80\n",
      "\u001b[1m104/104\u001b[0m \u001b[32m━━━━━━━━━━━━━━━━━━━━\u001b[0m\u001b[37m\u001b[0m \u001b[1m31s\u001b[0m 301ms/step - accuracy: 0.9635 - loss: 0.1169 - val_accuracy: 0.8696 - val_loss: 0.3903\n",
      "Epoch 43/80\n",
      "\u001b[1m104/104\u001b[0m \u001b[32m━━━━━━━━━━━━━━━━━━━━\u001b[0m\u001b[37m\u001b[0m \u001b[1m32s\u001b[0m 311ms/step - accuracy: 0.9867 - loss: 0.0373 - val_accuracy: 0.9662 - val_loss: 0.0804\n",
      "Epoch 44/80\n",
      "\u001b[1m104/104\u001b[0m \u001b[32m━━━━━━━━━━━━━━━━━━━━\u001b[0m\u001b[37m\u001b[0m \u001b[1m32s\u001b[0m 310ms/step - accuracy: 0.9802 - loss: 0.0476 - val_accuracy: 0.9372 - val_loss: 0.1544\n",
      "Epoch 45/80\n",
      "\u001b[1m104/104\u001b[0m \u001b[32m━━━━━━━━━━━━━━━━━━━━\u001b[0m\u001b[37m\u001b[0m \u001b[1m31s\u001b[0m 297ms/step - accuracy: 0.9837 - loss: 0.0362 - val_accuracy: 0.9034 - val_loss: 0.2598\n",
      "Epoch 46/80\n",
      "\u001b[1m104/104\u001b[0m \u001b[32m━━━━━━━━━━━━━━━━━━━━\u001b[0m\u001b[37m\u001b[0m \u001b[1m32s\u001b[0m 303ms/step - accuracy: 0.9559 - loss: 0.1191 - val_accuracy: 0.9275 - val_loss: 0.2101\n",
      "Epoch 47/80\n",
      "\u001b[1m104/104\u001b[0m \u001b[32m━━━━━━━━━━━━━━━━━━━━\u001b[0m\u001b[37m\u001b[0m \u001b[1m32s\u001b[0m 311ms/step - accuracy: 0.9688 - loss: 0.0633 - val_accuracy: 0.9372 - val_loss: 0.1521\n",
      "Epoch 48/80\n",
      "\u001b[1m104/104\u001b[0m \u001b[32m━━━━━━━━━━━━━━━━━━━━\u001b[0m\u001b[37m\u001b[0m \u001b[1m32s\u001b[0m 305ms/step - accuracy: 0.9807 - loss: 0.0473 - val_accuracy: 0.9420 - val_loss: 0.1560\n",
      "Epoch 49/80\n",
      "\u001b[1m104/104\u001b[0m \u001b[32m━━━━━━━━━━━━━━━━━━━━\u001b[0m\u001b[37m\u001b[0m \u001b[1m32s\u001b[0m 303ms/step - accuracy: 0.9759 - loss: 0.1149 - val_accuracy: 0.9324 - val_loss: 0.1390\n",
      "Epoch 50/80\n",
      "\u001b[1m104/104\u001b[0m \u001b[32m━━━━━━━━━━━━━━━━━━━━\u001b[0m\u001b[37m\u001b[0m \u001b[1m31s\u001b[0m 295ms/step - accuracy: 0.9683 - loss: 0.0932 - val_accuracy: 0.9614 - val_loss: 0.0982\n",
      "Epoch 51/80\n",
      "\u001b[1m104/104\u001b[0m \u001b[32m━━━━━━━━━━━━━━━━━━━━\u001b[0m\u001b[37m\u001b[0m \u001b[1m31s\u001b[0m 298ms/step - accuracy: 0.9871 - loss: 0.0455 - val_accuracy: 0.9565 - val_loss: 0.1139\n",
      "Epoch 52/80\n",
      "\u001b[1m104/104\u001b[0m \u001b[32m━━━━━━━━━━━━━━━━━━━━\u001b[0m\u001b[37m\u001b[0m \u001b[1m31s\u001b[0m 298ms/step - accuracy: 0.9551 - loss: 0.1290 - val_accuracy: 0.9710 - val_loss: 0.0674\n",
      "Epoch 53/80\n",
      "\u001b[1m104/104\u001b[0m \u001b[32m━━━━━━━━━━━━━━━━━━━━\u001b[0m\u001b[37m\u001b[0m \u001b[1m31s\u001b[0m 295ms/step - accuracy: 0.9731 - loss: 0.0656 - val_accuracy: 0.9565 - val_loss: 0.0921\n",
      "Epoch 54/80\n",
      "\u001b[1m104/104\u001b[0m \u001b[32m━━━━━━━━━━━━━━━━━━━━\u001b[0m\u001b[37m\u001b[0m \u001b[1m31s\u001b[0m 298ms/step - accuracy: 0.9798 - loss: 0.0788 - val_accuracy: 0.9565 - val_loss: 0.1108\n",
      "Epoch 55/80\n",
      "\u001b[1m104/104\u001b[0m \u001b[32m━━━━━━━━━━━━━━━━━━━━\u001b[0m\u001b[37m\u001b[0m \u001b[1m31s\u001b[0m 298ms/step - accuracy: 0.9723 - loss: 0.0826 - val_accuracy: 0.9372 - val_loss: 0.1788\n",
      "Epoch 56/80\n",
      "\u001b[1m104/104\u001b[0m \u001b[32m━━━━━━━━━━━━━━━━━━━━\u001b[0m\u001b[37m\u001b[0m \u001b[1m31s\u001b[0m 297ms/step - accuracy: 0.9818 - loss: 0.0594 - val_accuracy: 0.9082 - val_loss: 0.2475\n",
      "Epoch 57/80\n",
      "\u001b[1m104/104\u001b[0m \u001b[32m━━━━━━━━━━━━━━━━━━━━\u001b[0m\u001b[37m\u001b[0m \u001b[1m31s\u001b[0m 300ms/step - accuracy: 0.9849 - loss: 0.0548 - val_accuracy: 0.9034 - val_loss: 0.2623\n",
      "Epoch 58/80\n",
      "\u001b[1m104/104\u001b[0m \u001b[32m━━━━━━━━━━━━━━━━━━━━\u001b[0m\u001b[37m\u001b[0m \u001b[1m31s\u001b[0m 296ms/step - accuracy: 0.9866 - loss: 0.0417 - val_accuracy: 0.9517 - val_loss: 0.1287\n",
      "Epoch 59/80\n",
      "\u001b[1m104/104\u001b[0m \u001b[32m━━━━━━━━━━━━━━━━━━━━\u001b[0m\u001b[37m\u001b[0m \u001b[1m31s\u001b[0m 296ms/step - accuracy: 0.9787 - loss: 0.0823 - val_accuracy: 0.9372 - val_loss: 0.1917\n",
      "Epoch 60/80\n",
      "\u001b[1m104/104\u001b[0m \u001b[32m━━━━━━━━━━━━━━━━━━━━\u001b[0m\u001b[37m\u001b[0m \u001b[1m32s\u001b[0m 303ms/step - accuracy: 0.9603 - loss: 0.1192 - val_accuracy: 0.9565 - val_loss: 0.1308\n",
      "Epoch 61/80\n",
      "\u001b[1m104/104\u001b[0m \u001b[32m━━━━━━━━━━━━━━━━━━━━\u001b[0m\u001b[37m\u001b[0m \u001b[1m31s\u001b[0m 301ms/step - accuracy: 0.9885 - loss: 0.0445 - val_accuracy: 0.9710 - val_loss: 0.0947\n",
      "Epoch 62/80\n",
      "\u001b[1m104/104\u001b[0m \u001b[32m━━━━━━━━━━━━━━━━━━━━\u001b[0m\u001b[37m\u001b[0m \u001b[1m32s\u001b[0m 306ms/step - accuracy: 0.9961 - loss: 0.0284 - val_accuracy: 0.9710 - val_loss: 0.0608\n",
      "Epoch 63/80\n",
      "\u001b[1m104/104\u001b[0m \u001b[32m━━━━━━━━━━━━━━━━━━━━\u001b[0m\u001b[37m\u001b[0m \u001b[1m32s\u001b[0m 308ms/step - accuracy: 0.9910 - loss: 0.0304 - val_accuracy: 0.9420 - val_loss: 0.1122\n",
      "Epoch 64/80\n",
      "\u001b[1m104/104\u001b[0m \u001b[32m━━━━━━━━━━━━━━━━━━━━\u001b[0m\u001b[37m\u001b[0m \u001b[1m32s\u001b[0m 303ms/step - accuracy: 0.9792 - loss: 0.0424 - val_accuracy: 0.9565 - val_loss: 0.1172\n",
      "Epoch 65/80\n",
      "\u001b[1m104/104\u001b[0m \u001b[32m━━━━━━━━━━━━━━━━━━━━\u001b[0m\u001b[37m\u001b[0m \u001b[1m32s\u001b[0m 309ms/step - accuracy: 0.9928 - loss: 0.0232 - val_accuracy: 0.9662 - val_loss: 0.0871\n",
      "Epoch 66/80\n",
      "\u001b[1m104/104\u001b[0m \u001b[32m━━━━━━━━━━━━━━━━━━━━\u001b[0m\u001b[37m\u001b[0m \u001b[1m32s\u001b[0m 306ms/step - accuracy: 0.9895 - loss: 0.0337 - val_accuracy: 0.9662 - val_loss: 0.1096\n",
      "Epoch 67/80\n",
      "\u001b[1m104/104\u001b[0m \u001b[32m━━━━━━━━━━━━━━━━━━━━\u001b[0m\u001b[37m\u001b[0m \u001b[1m31s\u001b[0m 298ms/step - accuracy: 0.9734 - loss: 0.0809 - val_accuracy: 0.9565 - val_loss: 0.1431\n",
      "Epoch 68/80\n",
      "\u001b[1m104/104\u001b[0m \u001b[32m━━━━━━━━━━━━━━━━━━━━\u001b[0m\u001b[37m\u001b[0m \u001b[1m32s\u001b[0m 305ms/step - accuracy: 0.9907 - loss: 0.0476 - val_accuracy: 0.9758 - val_loss: 0.0908\n",
      "Epoch 69/80\n",
      "\u001b[1m104/104\u001b[0m \u001b[32m━━━━━━━━━━━━━━━━━━━━\u001b[0m\u001b[37m\u001b[0m \u001b[1m32s\u001b[0m 306ms/step - accuracy: 0.9852 - loss: 0.0306 - val_accuracy: 0.8357 - val_loss: 0.4022\n",
      "Epoch 70/80\n",
      "\u001b[1m104/104\u001b[0m \u001b[32m━━━━━━━━━━━━━━━━━━━━\u001b[0m\u001b[37m\u001b[0m \u001b[1m31s\u001b[0m 300ms/step - accuracy: 0.9727 - loss: 0.0597 - val_accuracy: 0.8937 - val_loss: 0.3636\n",
      "Epoch 71/80\n",
      "\u001b[1m104/104\u001b[0m \u001b[32m━━━━━━━━━━━━━━━━━━━━\u001b[0m\u001b[37m\u001b[0m \u001b[1m31s\u001b[0m 302ms/step - accuracy: 0.9620 - loss: 0.0894 - val_accuracy: 0.9517 - val_loss: 0.1423\n",
      "Epoch 72/80\n",
      "\u001b[1m104/104\u001b[0m \u001b[32m━━━━━━━━━━━━━━━━━━━━\u001b[0m\u001b[37m\u001b[0m \u001b[1m32s\u001b[0m 306ms/step - accuracy: 0.9919 - loss: 0.0285 - val_accuracy: 0.9372 - val_loss: 0.1516\n",
      "Epoch 73/80\n",
      "\u001b[1m104/104\u001b[0m \u001b[32m━━━━━━━━━━━━━━━━━━━━\u001b[0m\u001b[37m\u001b[0m \u001b[1m32s\u001b[0m 309ms/step - accuracy: 0.9856 - loss: 0.0392 - val_accuracy: 0.8696 - val_loss: 0.3662\n",
      "Epoch 74/80\n",
      "\u001b[1m104/104\u001b[0m \u001b[32m━━━━━━━━━━━━━━━━━━━━\u001b[0m\u001b[37m\u001b[0m \u001b[1m31s\u001b[0m 302ms/step - accuracy: 0.9948 - loss: 0.0237 - val_accuracy: 0.9662 - val_loss: 0.1024\n",
      "Epoch 75/80\n",
      "\u001b[1m104/104\u001b[0m \u001b[32m━━━━━━━━━━━━━━━━━━━━\u001b[0m\u001b[37m\u001b[0m \u001b[1m32s\u001b[0m 303ms/step - accuracy: 0.9705 - loss: 0.0445 - val_accuracy: 0.9420 - val_loss: 0.2091\n",
      "Epoch 76/80\n",
      "\u001b[1m104/104\u001b[0m \u001b[32m━━━━━━━━━━━━━━━━━━━━\u001b[0m\u001b[37m\u001b[0m \u001b[1m32s\u001b[0m 309ms/step - accuracy: 0.9945 - loss: 0.0281 - val_accuracy: 0.9469 - val_loss: 0.1211\n",
      "Epoch 77/80\n",
      "\u001b[1m104/104\u001b[0m \u001b[32m━━━━━━━━━━━━━━━━━━━━\u001b[0m\u001b[37m\u001b[0m \u001b[1m33s\u001b[0m 315ms/step - accuracy: 0.9879 - loss: 0.0262 - val_accuracy: 0.9614 - val_loss: 0.0885\n",
      "Epoch 78/80\n",
      "\u001b[1m104/104\u001b[0m \u001b[32m━━━━━━━━━━━━━━━━━━━━\u001b[0m\u001b[37m\u001b[0m \u001b[1m31s\u001b[0m 302ms/step - accuracy: 0.9846 - loss: 0.0586 - val_accuracy: 0.8937 - val_loss: 0.2718\n",
      "Epoch 79/80\n",
      "\u001b[1m104/104\u001b[0m \u001b[32m━━━━━━━━━━━━━━━━━━━━\u001b[0m\u001b[37m\u001b[0m \u001b[1m32s\u001b[0m 309ms/step - accuracy: 0.9815 - loss: 0.0439 - val_accuracy: 0.9614 - val_loss: 0.0978\n",
      "Epoch 80/80\n",
      "\u001b[1m104/104\u001b[0m \u001b[32m━━━━━━━━━━━━━━━━━━━━\u001b[0m\u001b[37m\u001b[0m \u001b[1m30s\u001b[0m 286ms/step - accuracy: 0.9891 - loss: 0.0486 - val_accuracy: 0.9662 - val_loss: 0.0693\n"
     ]
    },
    {
     "data": {
      "text/plain": [
       "<keras.src.callbacks.history.History at 0x111075910>"
      ]
     },
     "execution_count": 11,
     "metadata": {},
     "output_type": "execute_result"
    }
   ],
   "source": [
    "epochs = 80\n",
    "\n",
    "model.compile(\n",
    "    optimizer=keras.optimizers.Adam(1e-3),\n",
    "    loss=\"binary_crossentropy\",\n",
    "    metrics=[\"accuracy\"],\n",
    ")\n",
    "model.fit(\n",
    "    train_ds, epochs=epochs, validation_data=val_ds,\n",
    ")"
   ]
  },
  {
   "cell_type": "code",
   "execution_count": null,
   "metadata": {
    "colab": {
     "background_save": true
    },
    "id": "qlnzlXMhala_"
   },
   "outputs": [],
   "source": [
    "f = open(\"imagelst.txt\", \"r\")\n",
    "for fnam in f:\n",
    "    fnam = fnam.replace(\"\\n\", \"\")\n",
    "    img = keras.preprocessing.image.load_img( fnam, target_size=image_size )\n",
    "    img_array = keras.preprocessing.image.img_to_array(img)\n",
    "    img_array = tf.expand_dims(img_array, 0)  # Create batch axis\n",
    "    predictions = model.predict(img_array)\n",
    "    score = predictions[0]\n",
    "    print( fnam , \" , This image is %.2f percent female and %.2f percent male.\"\n",
    "        % (100 * (1 - score), 100 * score) )\n",
    "f.close()"
   ]
  }
 ],
 "metadata": {
  "colab": {
   "collapsed_sections": [],
   "name": "deep5_gpu.ipynb",
   "version": ""
  },
  "kernelspec": {
   "display_name": "Python 3 (ipykernel)",
   "language": "python",
   "name": "python3"
  },
  "language_info": {
   "codemirror_mode": {
    "name": "ipython",
    "version": 3
   },
   "file_extension": ".py",
   "mimetype": "text/x-python",
   "name": "python",
   "nbconvert_exporter": "python",
   "pygments_lexer": "ipython3",
   "version": "3.11.10"
  }
 },
 "nbformat": 4,
 "nbformat_minor": 1
}
